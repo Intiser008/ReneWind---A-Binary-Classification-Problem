{
 "cells": [
  {
   "cell_type": "markdown",
   "id": "460b05ac-da03-4490-b031-1a4a92a9f532",
   "metadata": {},
   "source": [
    "# Baseline Code for HW1\n",
    "\n",
    "This is just the baseline code to set up the basic function you need. You need to modify the code yourself to achieve a better result."
   ]
  },
  {
   "cell_type": "markdown",
   "id": "8a77efe6-9cc3-4a34-86cb-c432f410c577",
   "metadata": {},
   "source": [
    "## Import packages you need"
   ]
  },
  {
   "cell_type": "code",
   "execution_count": 1,
   "id": "7c926fee-9834-43bf-9ae1-c00fb7116fb1",
   "metadata": {},
   "outputs": [],
   "source": [
    "# import package \n",
    "import numpy as np\n",
    "import pandas as pd\n",
    "from torch.utils.data import Dataset\n",
    "import torch\n",
    "import torch.nn as nn\n",
    "from torch.utils.data import DataLoader\n",
    "from torch.utils.data import random_split\n",
    "import csv"
   ]
  },
  {
   "cell_type": "code",
   "execution_count": 2,
   "id": "b71c25e4-90e4-4582-a4a6-b7b6939fd141",
   "metadata": {},
   "outputs": [],
   "source": [
    "# Setting seeds\n",
    "myseed=666\n",
    "torch.manual_seed(myseed)\n",
    "# if you use numpy\n",
    "np.random.seed(myseed)"
   ]
  },
  {
   "cell_type": "markdown",
   "id": "7f3fd36e-8b21-4e7b-b8ed-75156e4cf788",
   "metadata": {},
   "source": [
    "## Basic Function\n",
    "Do not modify this part"
   ]
  },
  {
   "cell_type": "code",
   "execution_count": 3,
   "id": "0e15ac8c-c1c9-4026-8202-e1a2a83538cc",
   "metadata": {},
   "outputs": [],
   "source": [
    "class EarlyStopper(object):\n",
    "    def __init__(self, num_trials, save_path):\n",
    "        self.num_trials = num_trials\n",
    "        self.trial_counter = 0\n",
    "        self.best_loss = 1000000.0\n",
    "        self.save_path = save_path\n",
    "\n",
    "    def is_continuable(self, model, loss):\n",
    "        if loss < self.best_loss:\n",
    "            self.best_loss = loss\n",
    "            self.trial_counter = 0\n",
    "            torch.save(model.state_dict(), self.save_path)\n",
    "            return True\n",
    "        elif self.trial_counter + 1 < self.num_trials:\n",
    "            self.trial_counter += 1\n",
    "            return True\n",
    "        else:\n",
    "            return False\n",
    "\n",
    "def cal_loss(loader):\n",
    "    pres = []\n",
    "    labels = []\n",
    "    for field, label in loader:\n",
    "        field, label = field.float(), label.float()\n",
    "        prediction = model(field)\n",
    "        pres.append(prediction)\n",
    "        labels.append(label)\n",
    "    pres = torch.cat(pres, dim=0)\n",
    "    labels = torch.cat(labels, dim=0)\n",
    "    loss = criterion(pres, labels)\n",
    "    return loss\n",
    "\n",
    "def predict(test_loader, model):\n",
    "    pres = []\n",
    "    for field in test_loader:\n",
    "        field = field.float()\n",
    "        prediction = model(field)\n",
    "        pres.append(prediction)\n",
    "    pres = torch.cat(pres, dim=0)\n",
    "    return pres.detach().numpy()\n"
   ]
  },
  {
   "cell_type": "code",
   "execution_count": 4,
   "id": "c2995908-4e1d-4e11-8f37-6fe13dad02c6",
   "metadata": {},
   "outputs": [],
   "source": [
    "# Loading dataset\n",
    "class ReadDataset(Dataset):\n",
    "    def __init__(self, path, is_test=False):\n",
    "        super().__init__()\n",
    "        self.is_test = is_test\n",
    "        self.field = pd.read_csv(path, index_col=0)\n",
    "        self.field.dropna(axis=0, how='any', inplace=True)\n",
    "        assert not self.field.isnull().values.any()\n",
    "        self.field = self.field.values\n",
    "        if not is_test:\n",
    "            self.label = self.field[:,-1]\n",
    "            self.field = self.field[:,:-1]\n",
    "\n",
    "\n",
    "    def __len__(self):\n",
    "        return len(self.field)\n",
    "\n",
    "    def __getitem__(self, item):\n",
    "        field = self.field[item]\n",
    "        if not self.is_test:\n",
    "            label = self.label[item]\n",
    "            return field, label\n",
    "        return field"
   ]
  },
  {
   "cell_type": "markdown",
   "id": "1c2bd951-01af-4b26-88fd-97d963c9bb5b",
   "metadata": {},
   "source": [
    "## Define DNN by pytorch"
   ]
  },
  {
   "cell_type": "code",
   "execution_count": 5,
   "id": "b8712291-b23c-40a7-b3ec-86ca92c41d81",
   "metadata": {},
   "outputs": [],
   "source": [
    "class Net(torch.nn.Module):\n",
    "    def __init__(self, input_dim):\n",
    "        super().__init__()\n",
    "        self.linear = nn.Linear(input_dim, 1)\n",
    "        self.sig = nn.Sigmoid()\n",
    "\n",
    "    def forward(self, x):\n",
    "        x = self.linear(x)\n",
    "        x = self.sig(x).squeeze()\n",
    "        return x"
   ]
  },
  {
   "cell_type": "markdown",
   "id": "8387b867-ca72-47bb-9926-377f79ba9024",
   "metadata": {},
   "source": [
    "# Selecting Appropriate Hyperparameters"
   ]
  },
  {
   "cell_type": "code",
   "execution_count": 6,
   "id": "0e981b48-aa9e-4d7a-a3bf-4e88ffa79978",
   "metadata": {},
   "outputs": [],
   "source": [
    "# hyper-parameters\n",
    "# your batch size\n",
    "batch_size = 1000\n",
    "# your learning rate\n",
    "lr = 100\n",
    "# a parameter used for splitting train and validation set\n",
    "split_ratio = 0.1\n",
    "# maximum training epochs\n",
    "epochs = 1\n",
    "# early stop step in training\n",
    "num_trials = 1000000\n",
    "# path for your trained model\n",
    "save_path = \"./model.pt\"\n",
    "# path for your predictions\n",
    "test_path = \"predictions.txt\""
   ]
  },
  {
   "cell_type": "code",
   "execution_count": 7,
   "id": "a65b44a3-59cf-4eaf-becc-6769850dcc66",
   "metadata": {},
   "outputs": [],
   "source": [
    "# Loading dataset\n",
    "train_data = ReadDataset(\"./data/train.csv\")\n",
    "test_data = ReadDataset(\"./data/test.csv\", is_test=True)\n",
    "len_train = len(train_data)\n"
   ]
  },
  {
   "cell_type": "code",
   "execution_count": 8,
   "id": "551f911b-89a3-410b-a3c2-a66ed53c6415",
   "metadata": {},
   "outputs": [
    {
     "name": "stdout",
     "output_type": "stream",
     "text": [
      "Num of Samples: Train: 1497, Validation: 13474, Test: 9982\n"
     ]
    }
   ],
   "source": [
    "split_num = [int(len_train*split_ratio), len_train-int(len_train*split_ratio)]\n",
    "train_data, val_data = random_split(\n",
    "                            dataset=train_data,\n",
    "                            lengths=split_num,\n",
    "                            generator=torch.Generator().manual_seed(myseed)\n",
    "                        )\n",
    "print(\"Num of Samples: Train: {}, Validation: {}, Test: {}\".format(len(train_data), len(val_data), len(test_data)))\n",
    "\n",
    "train_loader = DataLoader(train_data, batch_size=batch_size, shuffle=True)\n",
    "val_loader = DataLoader(val_data, batch_size=batch_size, shuffle=False)\n",
    "test_loader = DataLoader(test_data, batch_size=batch_size, shuffle=False)"
   ]
  },
  {
   "cell_type": "code",
   "execution_count": 9,
   "id": "abcc9f4e-8832-4899-80ce-a30d0b55d8d3",
   "metadata": {},
   "outputs": [],
   "source": [
    "# Loss\n",
    "criterion = nn.BCELoss()"
   ]
  },
  {
   "cell_type": "code",
   "execution_count": 10,
   "id": "d5fd71bf-227c-487e-ae52-7b02243d9d0f",
   "metadata": {},
   "outputs": [],
   "source": [
    "input_dim = train_data[0][0].shape[0] \n",
    "model = Net(input_dim)\n",
    "# your optimizer\n",
    "optimizer = torch.optim.SGD(\n",
    "        params=model.parameters(), lr=lr)"
   ]
  },
  {
   "cell_type": "code",
   "execution_count": 11,
   "id": "6de7e308-9c1f-42ba-82f2-d9bf8ca7b52c",
   "metadata": {},
   "outputs": [
    {
     "name": "stdout",
     "output_type": "stream",
     "text": [
      "Validation Result: 42.103309631347656\n"
     ]
    }
   ],
   "source": [
    "model.train()\n",
    "early_stopper = EarlyStopper(num_trials, save_path)\n",
    "\n",
    "\n",
    "# Training\n",
    "for epoch in range(epochs):\n",
    "    for field, label in train_loader:\n",
    "        field, label = field.float(), label.float()\n",
    "        prediction = model(field)\n",
    "        loss = criterion(prediction,label)\n",
    "        model.zero_grad()\n",
    "        loss.backward()\n",
    "        optimizer.step()\n",
    "\n",
    "    # calculate validation\n",
    "    val_loss = cal_loss(val_loader)\n",
    "    print(\"Validation Result: {}\".format(val_loss))\n",
    "    if not early_stopper.is_continuable(model, loss):\n",
    "        break\n",
    "\n",
    "# predicting on the test set\n",
    "model.eval()\n",
    "test_predict = predict(test_loader, model)>=0.5\n",
    "# print(\"Test predictions: \", ([int(x) for x in test_predict]))"
   ]
  },
  {
   "cell_type": "code",
   "execution_count": 12,
   "id": "870b6413-cbe6-4ec4-bdb0-d3e3ec2a7a6b",
   "metadata": {},
   "outputs": [
    {
     "name": "stdout",
     "output_type": "stream",
     "text": [
      "Saving results to prediction.csv\n"
     ]
    }
   ],
   "source": [
    "def save_pred(preds, file):\n",
    "    print('Saving results to {}'.format(file))\n",
    "    with open(file, 'w') as fp:\n",
    "        writer = csv.writer(fp)\n",
    "        writer.writerow(['id', 'tested_positive'])\n",
    "        for i, p in enumerate(preds):\n",
    "            writer.writerow([i, p])\n",
    "save_pred([int(x) for x in test_predict], 'prediction.csv')         # save prediction file to pred.csv"
   ]
  },
  {
   "cell_type": "markdown",
   "id": "ad671ee6-516f-4793-99bb-d67c86f59220",
   "metadata": {},
   "source": [
    "# Hints:\n",
    "\n",
    "Utilize a New, Powerful Optimizer \n",
    "\n",
    "Improve Model Structure\n",
    "\n",
    "Employ Proper Hyper-Paremeter\n",
    "\n",
    "Feature Selection"
   ]
  },
  {
   "cell_type": "markdown",
   "id": "113d25b9-1b28-4346-9f7c-988a643c282a",
   "metadata": {},
   "source": [
    "# Rules:\n",
    "\n",
    "Ensemble models are not allowed.\n",
    "\n",
    "You may use NumPy or Torch to implement other models such as SVM, but importing other packages is prohibited.\n"
   ]
  }
 ],
 "metadata": {
  "kernelspec": {
   "display_name": "ML",
   "language": "python",
   "name": "ml"
  },
  "language_info": {
   "codemirror_mode": {
    "name": "ipython",
    "version": 3
   },
   "file_extension": ".py",
   "mimetype": "text/x-python",
   "name": "python",
   "nbconvert_exporter": "python",
   "pygments_lexer": "ipython3",
   "version": "3.8.18"
  }
 },
 "nbformat": 4,
 "nbformat_minor": 5
}
